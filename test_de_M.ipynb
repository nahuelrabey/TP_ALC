{
 "cells": [
  {
   "cell_type": "code",
   "execution_count": 1,
   "id": "b80d8769",
   "metadata": {},
   "outputs": [],
   "source": [
    "import sympy as sp"
   ]
  },
  {
   "cell_type": "markdown",
   "id": "6aaf99a4",
   "metadata": {},
   "source": [
    "Probamos creando una matriz diagonal, y la invertimos, para ver cómo se comportaría la matriz de grado."
   ]
  },
  {
   "cell_type": "markdown",
   "id": "15890f39",
   "metadata": {},
   "source": [
    "Dada la siguiente matriz"
   ]
  },
  {
   "cell_type": "code",
   "execution_count": 2,
   "id": "63324ed1",
   "metadata": {},
   "outputs": [
    {
     "name": "stdout",
     "output_type": "stream",
     "text": [
      "Dada la siguiente matriz diagonal\n"
     ]
    },
    {
     "data": {
      "text/latex": [
       "$\\displaystyle \\left[\\begin{matrix}k_{1} & 0 & 0 & 0\\\\0 & k_{2} & 0 & 0\\\\0 & 0 & k_{3} & 0\\\\0 & 0 & 0 & k_{4}\\end{matrix}\\right]$"
      ],
      "text/plain": [
       "Matrix([\n",
       "[k1,  0,  0,  0],\n",
       "[ 0, k2,  0,  0],\n",
       "[ 0,  0, k3,  0],\n",
       "[ 0,  0,  0, k4]])"
      ]
     },
     "metadata": {},
     "output_type": "display_data"
    }
   ],
   "source": [
    "# Define a 4x4 diagonal matrix with real numbers on the diagonal\n",
    "diagonal_elements = sp.symbols('k1 k2 k3 k4', real=True)\n",
    "matrix = sp.diag(*diagonal_elements)\n",
    "\n",
    "print(\"Dada la siguiente matriz diagonal\")\n",
    "# Print matrix with LaTeX formatting\n",
    "display(matrix)\n"
   ]
  },
  {
   "cell_type": "markdown",
   "id": "c29e6660",
   "metadata": {},
   "source": [
    "La inversa es"
   ]
  },
  {
   "cell_type": "code",
   "execution_count": 3,
   "id": "0f4e58e3",
   "metadata": {},
   "outputs": [
    {
     "name": "stdout",
     "output_type": "stream",
     "text": [
      "La inversa de la matriz es:\n"
     ]
    },
    {
     "data": {
      "text/latex": [
       "$\\displaystyle \\left[\\begin{matrix}\\frac{1}{k_{1}} & 0 & 0 & 0\\\\0 & \\frac{1}{k_{2}} & 0 & 0\\\\0 & 0 & \\frac{1}{k_{3}} & 0\\\\0 & 0 & 0 & \\frac{1}{k_{4}}\\end{matrix}\\right]$"
      ],
      "text/plain": [
       "Matrix([\n",
       "[1/k1,    0,    0,    0],\n",
       "[   0, 1/k2,    0,    0],\n",
       "[   0,    0, 1/k3,    0],\n",
       "[   0,    0,    0, 1/k4]])"
      ]
     },
     "execution_count": 3,
     "metadata": {},
     "output_type": "execute_result"
    }
   ],
   "source": [
    "# Calculate the inverse of the matrix\n",
    "matrix_inverse = matrix.inv()\n",
    "\n",
    "print(\"La inversa de la matriz es:\")\n",
    "# Display the inverse\n",
    "matrix_inverse"
   ]
  },
  {
   "cell_type": "markdown",
   "id": "c898f4f3",
   "metadata": {},
   "source": [
    "Matriz de adyacencia con valores a_ij entre 0 y 1"
   ]
  },
  {
   "cell_type": "code",
   "execution_count": 4,
   "id": "9bb3884b",
   "metadata": {},
   "outputs": [
    {
     "data": {
      "text/latex": [
       "$\\displaystyle \\left[\\begin{matrix}0 & a_{12} & a_{13} & a_{14}\\\\a_{21} & 0 & a_{23} & a_{24}\\\\a_{31} & a_{32} & 0 & a_{34}\\\\a_{41} & a_{42} & a_{43} & 0\\end{matrix}\\right]$"
      ],
      "text/plain": [
       "Matrix([\n",
       "[   0, a_12, a_13, a_14],\n",
       "[a_21,    0, a_23, a_24],\n",
       "[a_31, a_32,    0, a_34],\n",
       "[a_41, a_42, a_43,    0]])"
      ]
     },
     "metadata": {},
     "output_type": "display_data"
    }
   ],
   "source": [
    "# Define symbolic variables for a 4x4 matrix\n",
    "a = sp.symbols('a_11 a_12 a_13 a_14 a_21 a_22 a_23 a_24 a_31 a_32 a_33 a_34 a_41 a_42 a_43 a_44')\n",
    "\n",
    "# Reshape the variables into a 4x4 matrix\n",
    "A = sp.Matrix(4, 4, a)\n",
    "\n",
    "# Set the diagonal elements of A to zero\n",
    "for i in range(4):\n",
    "  A[i, i] = 0\n",
    "\n",
    "# Display the updated matrix\n",
    "display(A)\n"
   ]
  },
  {
   "cell_type": "code",
   "execution_count": 5,
   "id": "6fbcc849",
   "metadata": {},
   "outputs": [
    {
     "name": "stdout",
     "output_type": "stream",
     "text": [
      "La matriz de Grado es:\n"
     ]
    },
    {
     "data": {
      "text/latex": [
       "$\\displaystyle \\left[\\begin{matrix}a_{12} + a_{13} + a_{14} & 0 & 0 & 0\\\\0 & a_{21} + a_{23} + a_{24} & 0 & 0\\\\0 & 0 & a_{31} + a_{32} + a_{34} & 0\\\\0 & 0 & 0 & a_{41} + a_{42} + a_{43}\\end{matrix}\\right]$"
      ],
      "text/plain": [
       "Matrix([\n",
       "[a_12 + a_13 + a_14,                  0,                  0,                  0],\n",
       "[                 0, a_21 + a_23 + a_24,                  0,                  0],\n",
       "[                 0,                  0, a_31 + a_32 + a_34,                  0],\n",
       "[                 0,                  0,                  0, a_41 + a_42 + a_43]])"
      ]
     },
     "metadata": {},
     "output_type": "display_data"
    }
   ],
   "source": [
    "# Create the matrix K\n",
    "K = sp.zeros(4, 4)  # Initialize a 4x4 zero matrix\n",
    "\n",
    "for i in range(4):\n",
    "  for j in range(4):\n",
    "    if i != j:\n",
    "      K[i, j] = 0\n",
    "    else:\n",
    "      K[i, j] = sum(A.row(i))\n",
    "\n",
    "print(\"La matriz de Grado es:\")\n",
    "display(K)"
   ]
  },
  {
   "cell_type": "markdown",
   "id": "c0b63cfd",
   "metadata": {},
   "source": [
    "La matriz de transición queda cómo"
   ]
  },
  {
   "cell_type": "code",
   "execution_count": 6,
   "id": "395feb4d",
   "metadata": {},
   "outputs": [
    {
     "data": {
      "text/latex": [
       "$\\displaystyle \\left[\\begin{matrix}0 & \\frac{a_{21}}{a_{21} + a_{23} + a_{24}} & \\frac{a_{31}}{a_{31} + a_{32} + a_{34}} & \\frac{a_{41}}{a_{41} + a_{42} + a_{43}}\\\\\\frac{a_{12}}{a_{12} + a_{13} + a_{14}} & 0 & \\frac{a_{32}}{a_{31} + a_{32} + a_{34}} & \\frac{a_{42}}{a_{41} + a_{42} + a_{43}}\\\\\\frac{a_{13}}{a_{12} + a_{13} + a_{14}} & \\frac{a_{23}}{a_{21} + a_{23} + a_{24}} & 0 & \\frac{a_{43}}{a_{41} + a_{42} + a_{43}}\\\\\\frac{a_{14}}{a_{12} + a_{13} + a_{14}} & \\frac{a_{24}}{a_{21} + a_{23} + a_{24}} & \\frac{a_{34}}{a_{31} + a_{32} + a_{34}} & 0\\end{matrix}\\right]$"
      ],
      "text/plain": [
       "Matrix([\n",
       "[                        0, a_21/(a_21 + a_23 + a_24), a_31/(a_31 + a_32 + a_34), a_41/(a_41 + a_42 + a_43)],\n",
       "[a_12/(a_12 + a_13 + a_14),                         0, a_32/(a_31 + a_32 + a_34), a_42/(a_41 + a_42 + a_43)],\n",
       "[a_13/(a_12 + a_13 + a_14), a_23/(a_21 + a_23 + a_24),                         0, a_43/(a_41 + a_42 + a_43)],\n",
       "[a_14/(a_12 + a_13 + a_14), a_24/(a_21 + a_23 + a_24), a_34/(a_31 + a_32 + a_34),                         0]])"
      ]
     },
     "metadata": {},
     "output_type": "display_data"
    }
   ],
   "source": [
    "C = A.T @ K.inv() \n",
    "display(C)"
   ]
  },
  {
   "cell_type": "markdown",
   "id": "8aa7bae8",
   "metadata": {},
   "source": [
    "Notemos que la fila i que representa los museos j más cercanos a i está dividida por el total de museos más cercanos a i"
   ]
  },
  {
   "cell_type": "code",
   "execution_count": 7,
   "id": "5bb11fbb",
   "metadata": {},
   "outputs": [
    {
     "data": {
      "text/latex": [
       "$\\displaystyle \\left[\\begin{matrix}0 & \\frac{a_{21}}{k_{2}} & \\frac{a_{31}}{k_{3}} & \\frac{a_{41}}{k_{4}}\\\\\\frac{a_{12}}{k_{1}} & 0 & \\frac{a_{32}}{k_{3}} & \\frac{a_{42}}{k_{4}}\\\\\\frac{a_{13}}{k_{1}} & \\frac{a_{23}}{k_{2}} & 0 & \\frac{a_{43}}{k_{4}}\\\\\\frac{a_{14}}{k_{1}} & \\frac{a_{24}}{k_{2}} & \\frac{a_{34}}{k_{3}} & 0\\end{matrix}\\right]$"
      ],
      "text/plain": [
       "Matrix([\n",
       "[      0, a_21/k2, a_31/k3, a_41/k4],\n",
       "[a_12/k1,       0, a_32/k3, a_42/k4],\n",
       "[a_13/k1, a_23/k2,       0, a_43/k4],\n",
       "[a_14/k1, a_24/k2, a_34/k3,       0]])"
      ]
     },
     "metadata": {},
     "output_type": "display_data"
    }
   ],
   "source": [
    "# Using an index k_ij for matrix K\n",
    "diagonal_elements = sp.symbols('k1 k2 k3 k4', real=True)\n",
    "K = sp.diag(*diagonal_elements)\n",
    "C = A.T @ K.inv() \n",
    "display(C)"
   ]
  },
  {
   "cell_type": "markdown",
   "id": "309546ab",
   "metadata": {},
   "source": [
    "Luego, el único elemento problemático de esta matriz es si existe un museo que no esté cercano a ninguno, pues tendríamos algún $k_{ij} = 0$"
   ]
  },
  {
   "cell_type": "markdown",
   "id": "3b923033",
   "metadata": {},
   "source": [
    "Veamos que pasa cuando I es restado por C"
   ]
  },
  {
   "cell_type": "code",
   "execution_count": 8,
   "id": "bae8efca",
   "metadata": {},
   "outputs": [
    {
     "data": {
      "text/latex": [
       "$\\displaystyle \\left[\\begin{matrix}1 & - \\frac{a_{21}}{k_{2}} & - \\frac{a_{31}}{k_{3}} & - \\frac{a_{41}}{k_{4}}\\\\- \\frac{a_{12}}{k_{1}} & 1 & - \\frac{a_{32}}{k_{3}} & - \\frac{a_{42}}{k_{4}}\\\\- \\frac{a_{13}}{k_{1}} & - \\frac{a_{23}}{k_{2}} & 1 & - \\frac{a_{43}}{k_{4}}\\\\- \\frac{a_{14}}{k_{1}} & - \\frac{a_{24}}{k_{2}} & - \\frac{a_{34}}{k_{3}} & 1\\end{matrix}\\right]$"
      ],
      "text/plain": [
       "Matrix([\n",
       "[       1, -a_21/k2, -a_31/k3, -a_41/k4],\n",
       "[-a_12/k1,        1, -a_32/k3, -a_42/k4],\n",
       "[-a_13/k1, -a_23/k2,        1, -a_43/k4],\n",
       "[-a_14/k1, -a_24/k2, -a_34/k3,        1]])"
      ]
     },
     "metadata": {},
     "output_type": "display_data"
    }
   ],
   "source": [
    "# Create a 4x4 identity matrix\n",
    "I = sp.eye(4)\n",
    "\n",
    "# Subtract matrix C from the identity matrix\n",
    "result = I - C\n",
    "\n",
    "# Display the result\n",
    "display(result)"
   ]
  },
  {
   "cell_type": "markdown",
   "id": "942bc415",
   "metadata": {},
   "source": [
    "¿El determinante de esta matriz es siempre distinto de 0?"
   ]
  },
  {
   "cell_type": "markdown",
   "id": "9bcc86f6",
   "metadata": {},
   "source": []
  },
  {
   "cell_type": "code",
   "execution_count": 17,
   "id": "3810fffc",
   "metadata": {},
   "outputs": [
    {
     "name": "stdout",
     "output_type": "stream",
     "text": [
      "La matriz estocástica es:\n"
     ]
    },
    {
     "data": {
      "text/latex": [
       "$\\displaystyle \\left[\\begin{matrix}0 & \\frac{p_{12}}{p_{12} + p_{13} + p_{14}} & \\frac{p_{13}}{p_{12} + p_{13} + p_{14}} & \\frac{p_{14}}{p_{12} + p_{13} + p_{14}}\\\\\\frac{p_{21}}{p_{21} + p_{23} + p_{24}} & 0 & \\frac{p_{23}}{p_{21} + p_{23} + p_{24}} & \\frac{p_{24}}{p_{21} + p_{23} + p_{24}}\\\\\\frac{p_{31}}{p_{31} + p_{32} + p_{34}} & \\frac{p_{32}}{p_{31} + p_{32} + p_{34}} & 0 & \\frac{p_{34}}{p_{31} + p_{32} + p_{34}}\\\\\\frac{p_{41}}{p_{41} + p_{42} + p_{43}} & \\frac{p_{42}}{p_{41} + p_{42} + p_{43}} & \\frac{p_{43}}{p_{41} + p_{42} + p_{43}} & 0\\end{matrix}\\right]$"
      ],
      "text/plain": [
       "Matrix([\n",
       "[                        0, p_12/(p_12 + p_13 + p_14), p_13/(p_12 + p_13 + p_14), p_14/(p_12 + p_13 + p_14)],\n",
       "[p_21/(p_21 + p_23 + p_24),                         0, p_23/(p_21 + p_23 + p_24), p_24/(p_21 + p_23 + p_24)],\n",
       "[p_31/(p_31 + p_32 + p_34), p_32/(p_31 + p_32 + p_34),                         0, p_34/(p_31 + p_32 + p_34)],\n",
       "[p_41/(p_41 + p_42 + p_43), p_42/(p_41 + p_42 + p_43), p_43/(p_41 + p_42 + p_43),                         0]])"
      ]
     },
     "metadata": {},
     "output_type": "display_data"
    }
   ],
   "source": [
    "# Define a 4x4 stochastic matrix\n",
    "stochastic_matrix = sp.Matrix(4, 4, lambda i, j: sp.symbols(f'p_{i+1}{j+1}', positive=True))\n",
    "\n",
    "for i in range(4):\n",
    "  stochastic_matrix[i,i] = 0\n",
    "\n",
    "# Normalize each row to ensure the sum equals 1\n",
    "for i in range(4):\n",
    "  row_sum = sum(stochastic_matrix.row(i))\n",
    "  stochastic_matrix.row_op(i, lambda x, _: x / row_sum)\n",
    "\n",
    "\n",
    "print(\"La matriz estocástica es:\")\n",
    "display(stochastic_matrix)"
   ]
  },
  {
   "cell_type": "code",
   "execution_count": null,
   "id": "ce0dffb3",
   "metadata": {},
   "outputs": [
    {
     "name": "stdout",
     "output_type": "stream",
     "text": [
      "La inversa de la matriz estocástica es:\n"
     ]
    },
    {
     "data": {
      "text/latex": [
       "$\\displaystyle \\left[\\begin{matrix}\\frac{p_{12} p_{23} p_{34} p_{42} + p_{12} p_{24} p_{32} p_{43} + p_{13} p_{23} p_{34} p_{42} + p_{13} p_{24} p_{32} p_{43} + p_{14} p_{23} p_{34} p_{42} + p_{14} p_{24} p_{32} p_{43}}{p_{12} p_{21} p_{34} p_{43} - p_{12} p_{23} p_{34} p_{41} - p_{12} p_{24} p_{31} p_{43} - p_{13} p_{21} p_{34} p_{42} + p_{13} p_{24} p_{31} p_{42} - p_{13} p_{24} p_{32} p_{41} - p_{14} p_{21} p_{32} p_{43} - p_{14} p_{23} p_{31} p_{42} + p_{14} p_{23} p_{32} p_{41}} & \\frac{p_{12} p_{21} p_{34} p_{43} + p_{12} p_{23} p_{34} p_{43} + p_{12} p_{24} p_{34} p_{43} - p_{13} p_{21} p_{34} p_{42} - p_{13} p_{23} p_{34} p_{42} - p_{13} p_{24} p_{34} p_{42} - p_{14} p_{21} p_{32} p_{43} - p_{14} p_{23} p_{32} p_{43} - p_{14} p_{24} p_{32} p_{43}}{p_{12} p_{21} p_{34} p_{43} - p_{12} p_{23} p_{34} p_{41} - p_{12} p_{24} p_{31} p_{43} - p_{13} p_{21} p_{34} p_{42} + p_{13} p_{24} p_{31} p_{42} - p_{13} p_{24} p_{32} p_{41} - p_{14} p_{21} p_{32} p_{43} - p_{14} p_{23} p_{31} p_{42} + p_{14} p_{23} p_{32} p_{41}} & \\frac{- p_{12} p_{24} p_{31} p_{43} - p_{12} p_{24} p_{32} p_{43} - p_{12} p_{24} p_{34} p_{43} + p_{13} p_{24} p_{31} p_{42} + p_{13} p_{24} p_{32} p_{42} + p_{13} p_{24} p_{34} p_{42} - p_{14} p_{23} p_{31} p_{42} - p_{14} p_{23} p_{32} p_{42} - p_{14} p_{23} p_{34} p_{42}}{p_{12} p_{21} p_{34} p_{43} - p_{12} p_{23} p_{34} p_{41} - p_{12} p_{24} p_{31} p_{43} - p_{13} p_{21} p_{34} p_{42} + p_{13} p_{24} p_{31} p_{42} - p_{13} p_{24} p_{32} p_{41} - p_{14} p_{21} p_{32} p_{43} - p_{14} p_{23} p_{31} p_{42} + p_{14} p_{23} p_{32} p_{41}} & \\frac{- p_{12} p_{23} p_{34} p_{41} - p_{12} p_{23} p_{34} p_{42} - p_{12} p_{23} p_{34} p_{43} - p_{13} p_{24} p_{32} p_{41} - p_{13} p_{24} p_{32} p_{42} - p_{13} p_{24} p_{32} p_{43} + p_{14} p_{23} p_{32} p_{41} + p_{14} p_{23} p_{32} p_{42} + p_{14} p_{23} p_{32} p_{43}}{p_{12} p_{21} p_{34} p_{43} - p_{12} p_{23} p_{34} p_{41} - p_{12} p_{24} p_{31} p_{43} - p_{13} p_{21} p_{34} p_{42} + p_{13} p_{24} p_{31} p_{42} - p_{13} p_{24} p_{32} p_{41} - p_{14} p_{21} p_{32} p_{43} - p_{14} p_{23} p_{31} p_{42} + p_{14} p_{23} p_{32} p_{41}}\\\\\\frac{p_{12} p_{21} p_{34} p_{43} - p_{12} p_{23} p_{34} p_{41} - p_{12} p_{24} p_{31} p_{43} + p_{13} p_{21} p_{34} p_{43} - p_{13} p_{23} p_{34} p_{41} - p_{13} p_{24} p_{31} p_{43} + p_{14} p_{21} p_{34} p_{43} - p_{14} p_{23} p_{34} p_{41} - p_{14} p_{24} p_{31} p_{43}}{p_{12} p_{21} p_{34} p_{43} - p_{12} p_{23} p_{34} p_{41} - p_{12} p_{24} p_{31} p_{43} - p_{13} p_{21} p_{34} p_{42} + p_{13} p_{24} p_{31} p_{42} - p_{13} p_{24} p_{32} p_{41} - p_{14} p_{21} p_{32} p_{43} - p_{14} p_{23} p_{31} p_{42} + p_{14} p_{23} p_{32} p_{41}} & \\frac{p_{13} p_{21} p_{34} p_{41} + p_{13} p_{23} p_{34} p_{41} + p_{13} p_{24} p_{34} p_{41} + p_{14} p_{21} p_{31} p_{43} + p_{14} p_{23} p_{31} p_{43} + p_{14} p_{24} p_{31} p_{43}}{p_{12} p_{21} p_{34} p_{43} - p_{12} p_{23} p_{34} p_{41} - p_{12} p_{24} p_{31} p_{43} - p_{13} p_{21} p_{34} p_{42} + p_{13} p_{24} p_{31} p_{42} - p_{13} p_{24} p_{32} p_{41} - p_{14} p_{21} p_{32} p_{43} - p_{14} p_{23} p_{31} p_{42} + p_{14} p_{23} p_{32} p_{41}} & \\frac{- p_{13} p_{24} p_{31} p_{41} - p_{13} p_{24} p_{32} p_{41} - p_{13} p_{24} p_{34} p_{41} - p_{14} p_{21} p_{31} p_{43} - p_{14} p_{21} p_{32} p_{43} - p_{14} p_{21} p_{34} p_{43} + p_{14} p_{23} p_{31} p_{41} + p_{14} p_{23} p_{32} p_{41} + p_{14} p_{23} p_{34} p_{41}}{p_{12} p_{21} p_{34} p_{43} - p_{12} p_{23} p_{34} p_{41} - p_{12} p_{24} p_{31} p_{43} - p_{13} p_{21} p_{34} p_{42} + p_{13} p_{24} p_{31} p_{42} - p_{13} p_{24} p_{32} p_{41} - p_{14} p_{21} p_{32} p_{43} - p_{14} p_{23} p_{31} p_{42} + p_{14} p_{23} p_{32} p_{41}} & \\frac{- p_{13} p_{21} p_{34} p_{41} - p_{13} p_{21} p_{34} p_{42} - p_{13} p_{21} p_{34} p_{43} + p_{13} p_{24} p_{31} p_{41} + p_{13} p_{24} p_{31} p_{42} + p_{13} p_{24} p_{31} p_{43} - p_{14} p_{23} p_{31} p_{41} - p_{14} p_{23} p_{31} p_{42} - p_{14} p_{23} p_{31} p_{43}}{p_{12} p_{21} p_{34} p_{43} - p_{12} p_{23} p_{34} p_{41} - p_{12} p_{24} p_{31} p_{43} - p_{13} p_{21} p_{34} p_{42} + p_{13} p_{24} p_{31} p_{42} - p_{13} p_{24} p_{32} p_{41} - p_{14} p_{21} p_{32} p_{43} - p_{14} p_{23} p_{31} p_{42} + p_{14} p_{23} p_{32} p_{41}}\\\\\\frac{- p_{12} p_{21} p_{34} p_{42} + p_{12} p_{24} p_{31} p_{42} - p_{12} p_{24} p_{32} p_{41} - p_{13} p_{21} p_{34} p_{42} + p_{13} p_{24} p_{31} p_{42} - p_{13} p_{24} p_{32} p_{41} - p_{14} p_{21} p_{34} p_{42} + p_{14} p_{24} p_{31} p_{42} - p_{14} p_{24} p_{32} p_{41}}{p_{12} p_{21} p_{34} p_{43} - p_{12} p_{23} p_{34} p_{41} - p_{12} p_{24} p_{31} p_{43} - p_{13} p_{21} p_{34} p_{42} + p_{13} p_{24} p_{31} p_{42} - p_{13} p_{24} p_{32} p_{41} - p_{14} p_{21} p_{32} p_{43} - p_{14} p_{23} p_{31} p_{42} + p_{14} p_{23} p_{32} p_{41}} & \\frac{- p_{12} p_{21} p_{34} p_{41} - p_{12} p_{23} p_{34} p_{41} - p_{12} p_{24} p_{34} p_{41} - p_{14} p_{21} p_{31} p_{42} + p_{14} p_{21} p_{32} p_{41} - p_{14} p_{23} p_{31} p_{42} + p_{14} p_{23} p_{32} p_{41} - p_{14} p_{24} p_{31} p_{42} + p_{14} p_{24} p_{32} p_{41}}{p_{12} p_{21} p_{34} p_{43} - p_{12} p_{23} p_{34} p_{41} - p_{12} p_{24} p_{31} p_{43} - p_{13} p_{21} p_{34} p_{42} + p_{13} p_{24} p_{31} p_{42} - p_{13} p_{24} p_{32} p_{41} - p_{14} p_{21} p_{32} p_{43} - p_{14} p_{23} p_{31} p_{42} + p_{14} p_{23} p_{32} p_{41}} & \\frac{p_{12} p_{24} p_{31} p_{41} + p_{12} p_{24} p_{32} p_{41} + p_{12} p_{24} p_{34} p_{41} + p_{14} p_{21} p_{31} p_{42} + p_{14} p_{21} p_{32} p_{42} + p_{14} p_{21} p_{34} p_{42}}{p_{12} p_{21} p_{34} p_{43} - p_{12} p_{23} p_{34} p_{41} - p_{12} p_{24} p_{31} p_{43} - p_{13} p_{21} p_{34} p_{42} + p_{13} p_{24} p_{31} p_{42} - p_{13} p_{24} p_{32} p_{41} - p_{14} p_{21} p_{32} p_{43} - p_{14} p_{23} p_{31} p_{42} + p_{14} p_{23} p_{32} p_{41}} & \\frac{p_{12} p_{21} p_{34} p_{41} + p_{12} p_{21} p_{34} p_{42} + p_{12} p_{21} p_{34} p_{43} - p_{12} p_{24} p_{31} p_{41} - p_{12} p_{24} p_{31} p_{42} - p_{12} p_{24} p_{31} p_{43} - p_{14} p_{21} p_{32} p_{41} - p_{14} p_{21} p_{32} p_{42} - p_{14} p_{21} p_{32} p_{43}}{p_{12} p_{21} p_{34} p_{43} - p_{12} p_{23} p_{34} p_{41} - p_{12} p_{24} p_{31} p_{43} - p_{13} p_{21} p_{34} p_{42} + p_{13} p_{24} p_{31} p_{42} - p_{13} p_{24} p_{32} p_{41} - p_{14} p_{21} p_{32} p_{43} - p_{14} p_{23} p_{31} p_{42} + p_{14} p_{23} p_{32} p_{41}}\\\\\\frac{- p_{12} p_{21} p_{32} p_{43} - p_{12} p_{23} p_{31} p_{42} + p_{12} p_{23} p_{32} p_{41} - p_{13} p_{21} p_{32} p_{43} - p_{13} p_{23} p_{31} p_{42} + p_{13} p_{23} p_{32} p_{41} - p_{14} p_{21} p_{32} p_{43} - p_{14} p_{23} p_{31} p_{42} + p_{14} p_{23} p_{32} p_{41}}{p_{12} p_{21} p_{34} p_{43} - p_{12} p_{23} p_{34} p_{41} - p_{12} p_{24} p_{31} p_{43} - p_{13} p_{21} p_{34} p_{42} + p_{13} p_{24} p_{31} p_{42} - p_{13} p_{24} p_{32} p_{41} - p_{14} p_{21} p_{32} p_{43} - p_{14} p_{23} p_{31} p_{42} + p_{14} p_{23} p_{32} p_{41}} & \\frac{- p_{12} p_{21} p_{31} p_{43} - p_{12} p_{23} p_{31} p_{43} - p_{12} p_{24} p_{31} p_{43} + p_{13} p_{21} p_{31} p_{42} - p_{13} p_{21} p_{32} p_{41} + p_{13} p_{23} p_{31} p_{42} - p_{13} p_{23} p_{32} p_{41} + p_{13} p_{24} p_{31} p_{42} - p_{13} p_{24} p_{32} p_{41}}{p_{12} p_{21} p_{34} p_{43} - p_{12} p_{23} p_{34} p_{41} - p_{12} p_{24} p_{31} p_{43} - p_{13} p_{21} p_{34} p_{42} + p_{13} p_{24} p_{31} p_{42} - p_{13} p_{24} p_{32} p_{41} - p_{14} p_{21} p_{32} p_{43} - p_{14} p_{23} p_{31} p_{42} + p_{14} p_{23} p_{32} p_{41}} & \\frac{p_{12} p_{21} p_{31} p_{43} + p_{12} p_{21} p_{32} p_{43} + p_{12} p_{21} p_{34} p_{43} - p_{12} p_{23} p_{31} p_{41} - p_{12} p_{23} p_{32} p_{41} - p_{12} p_{23} p_{34} p_{41} - p_{13} p_{21} p_{31} p_{42} - p_{13} p_{21} p_{32} p_{42} - p_{13} p_{21} p_{34} p_{42}}{p_{12} p_{21} p_{34} p_{43} - p_{12} p_{23} p_{34} p_{41} - p_{12} p_{24} p_{31} p_{43} - p_{13} p_{21} p_{34} p_{42} + p_{13} p_{24} p_{31} p_{42} - p_{13} p_{24} p_{32} p_{41} - p_{14} p_{21} p_{32} p_{43} - p_{14} p_{23} p_{31} p_{42} + p_{14} p_{23} p_{32} p_{41}} & \\frac{p_{12} p_{23} p_{31} p_{41} + p_{12} p_{23} p_{31} p_{42} + p_{12} p_{23} p_{31} p_{43} + p_{13} p_{21} p_{32} p_{41} + p_{13} p_{21} p_{32} p_{42} + p_{13} p_{21} p_{32} p_{43}}{p_{12} p_{21} p_{34} p_{43} - p_{12} p_{23} p_{34} p_{41} - p_{12} p_{24} p_{31} p_{43} - p_{13} p_{21} p_{34} p_{42} + p_{13} p_{24} p_{31} p_{42} - p_{13} p_{24} p_{32} p_{41} - p_{14} p_{21} p_{32} p_{43} - p_{14} p_{23} p_{31} p_{42} + p_{14} p_{23} p_{32} p_{41}}\\end{matrix}\\right]$"
      ],
      "text/plain": [
       "Matrix([\n",
       "[                                                                   (p_12*p_23*p_34*p_42 + p_12*p_24*p_32*p_43 + p_13*p_23*p_34*p_42 + p_13*p_24*p_32*p_43 + p_14*p_23*p_34*p_42 + p_14*p_24*p_32*p_43)/(p_12*p_21*p_34*p_43 - p_12*p_23*p_34*p_41 - p_12*p_24*p_31*p_43 - p_13*p_21*p_34*p_42 + p_13*p_24*p_31*p_42 - p_13*p_24*p_32*p_41 - p_14*p_21*p_32*p_43 - p_14*p_23*p_31*p_42 + p_14*p_23*p_32*p_41),  (p_12*p_21*p_34*p_43 + p_12*p_23*p_34*p_43 + p_12*p_24*p_34*p_43 - p_13*p_21*p_34*p_42 - p_13*p_23*p_34*p_42 - p_13*p_24*p_34*p_42 - p_14*p_21*p_32*p_43 - p_14*p_23*p_32*p_43 - p_14*p_24*p_32*p_43)/(p_12*p_21*p_34*p_43 - p_12*p_23*p_34*p_41 - p_12*p_24*p_31*p_43 - p_13*p_21*p_34*p_42 + p_13*p_24*p_31*p_42 - p_13*p_24*p_32*p_41 - p_14*p_21*p_32*p_43 - p_14*p_23*p_31*p_42 + p_14*p_23*p_32*p_41), (-p_12*p_24*p_31*p_43 - p_12*p_24*p_32*p_43 - p_12*p_24*p_34*p_43 + p_13*p_24*p_31*p_42 + p_13*p_24*p_32*p_42 + p_13*p_24*p_34*p_42 - p_14*p_23*p_31*p_42 - p_14*p_23*p_32*p_42 - p_14*p_23*p_34*p_42)/(p_12*p_21*p_34*p_43 - p_12*p_23*p_34*p_41 - p_12*p_24*p_31*p_43 - p_13*p_21*p_34*p_42 + p_13*p_24*p_31*p_42 - p_13*p_24*p_32*p_41 - p_14*p_21*p_32*p_43 - p_14*p_23*p_31*p_42 + p_14*p_23*p_32*p_41), (-p_12*p_23*p_34*p_41 - p_12*p_23*p_34*p_42 - p_12*p_23*p_34*p_43 - p_13*p_24*p_32*p_41 - p_13*p_24*p_32*p_42 - p_13*p_24*p_32*p_43 + p_14*p_23*p_32*p_41 + p_14*p_23*p_32*p_42 + p_14*p_23*p_32*p_43)/(p_12*p_21*p_34*p_43 - p_12*p_23*p_34*p_41 - p_12*p_24*p_31*p_43 - p_13*p_21*p_34*p_42 + p_13*p_24*p_31*p_42 - p_13*p_24*p_32*p_41 - p_14*p_21*p_32*p_43 - p_14*p_23*p_31*p_42 + p_14*p_23*p_32*p_41)],\n",
       "[ (p_12*p_21*p_34*p_43 - p_12*p_23*p_34*p_41 - p_12*p_24*p_31*p_43 + p_13*p_21*p_34*p_43 - p_13*p_23*p_34*p_41 - p_13*p_24*p_31*p_43 + p_14*p_21*p_34*p_43 - p_14*p_23*p_34*p_41 - p_14*p_24*p_31*p_43)/(p_12*p_21*p_34*p_43 - p_12*p_23*p_34*p_41 - p_12*p_24*p_31*p_43 - p_13*p_21*p_34*p_42 + p_13*p_24*p_31*p_42 - p_13*p_24*p_32*p_41 - p_14*p_21*p_32*p_43 - p_14*p_23*p_31*p_42 + p_14*p_23*p_32*p_41),                                                                    (p_13*p_21*p_34*p_41 + p_13*p_23*p_34*p_41 + p_13*p_24*p_34*p_41 + p_14*p_21*p_31*p_43 + p_14*p_23*p_31*p_43 + p_14*p_24*p_31*p_43)/(p_12*p_21*p_34*p_43 - p_12*p_23*p_34*p_41 - p_12*p_24*p_31*p_43 - p_13*p_21*p_34*p_42 + p_13*p_24*p_31*p_42 - p_13*p_24*p_32*p_41 - p_14*p_21*p_32*p_43 - p_14*p_23*p_31*p_42 + p_14*p_23*p_32*p_41), (-p_13*p_24*p_31*p_41 - p_13*p_24*p_32*p_41 - p_13*p_24*p_34*p_41 - p_14*p_21*p_31*p_43 - p_14*p_21*p_32*p_43 - p_14*p_21*p_34*p_43 + p_14*p_23*p_31*p_41 + p_14*p_23*p_32*p_41 + p_14*p_23*p_34*p_41)/(p_12*p_21*p_34*p_43 - p_12*p_23*p_34*p_41 - p_12*p_24*p_31*p_43 - p_13*p_21*p_34*p_42 + p_13*p_24*p_31*p_42 - p_13*p_24*p_32*p_41 - p_14*p_21*p_32*p_43 - p_14*p_23*p_31*p_42 + p_14*p_23*p_32*p_41), (-p_13*p_21*p_34*p_41 - p_13*p_21*p_34*p_42 - p_13*p_21*p_34*p_43 + p_13*p_24*p_31*p_41 + p_13*p_24*p_31*p_42 + p_13*p_24*p_31*p_43 - p_14*p_23*p_31*p_41 - p_14*p_23*p_31*p_42 - p_14*p_23*p_31*p_43)/(p_12*p_21*p_34*p_43 - p_12*p_23*p_34*p_41 - p_12*p_24*p_31*p_43 - p_13*p_21*p_34*p_42 + p_13*p_24*p_31*p_42 - p_13*p_24*p_32*p_41 - p_14*p_21*p_32*p_43 - p_14*p_23*p_31*p_42 + p_14*p_23*p_32*p_41)],\n",
       "[(-p_12*p_21*p_34*p_42 + p_12*p_24*p_31*p_42 - p_12*p_24*p_32*p_41 - p_13*p_21*p_34*p_42 + p_13*p_24*p_31*p_42 - p_13*p_24*p_32*p_41 - p_14*p_21*p_34*p_42 + p_14*p_24*p_31*p_42 - p_14*p_24*p_32*p_41)/(p_12*p_21*p_34*p_43 - p_12*p_23*p_34*p_41 - p_12*p_24*p_31*p_43 - p_13*p_21*p_34*p_42 + p_13*p_24*p_31*p_42 - p_13*p_24*p_32*p_41 - p_14*p_21*p_32*p_43 - p_14*p_23*p_31*p_42 + p_14*p_23*p_32*p_41), (-p_12*p_21*p_34*p_41 - p_12*p_23*p_34*p_41 - p_12*p_24*p_34*p_41 - p_14*p_21*p_31*p_42 + p_14*p_21*p_32*p_41 - p_14*p_23*p_31*p_42 + p_14*p_23*p_32*p_41 - p_14*p_24*p_31*p_42 + p_14*p_24*p_32*p_41)/(p_12*p_21*p_34*p_43 - p_12*p_23*p_34*p_41 - p_12*p_24*p_31*p_43 - p_13*p_21*p_34*p_42 + p_13*p_24*p_31*p_42 - p_13*p_24*p_32*p_41 - p_14*p_21*p_32*p_43 - p_14*p_23*p_31*p_42 + p_14*p_23*p_32*p_41),                                                                    (p_12*p_24*p_31*p_41 + p_12*p_24*p_32*p_41 + p_12*p_24*p_34*p_41 + p_14*p_21*p_31*p_42 + p_14*p_21*p_32*p_42 + p_14*p_21*p_34*p_42)/(p_12*p_21*p_34*p_43 - p_12*p_23*p_34*p_41 - p_12*p_24*p_31*p_43 - p_13*p_21*p_34*p_42 + p_13*p_24*p_31*p_42 - p_13*p_24*p_32*p_41 - p_14*p_21*p_32*p_43 - p_14*p_23*p_31*p_42 + p_14*p_23*p_32*p_41),  (p_12*p_21*p_34*p_41 + p_12*p_21*p_34*p_42 + p_12*p_21*p_34*p_43 - p_12*p_24*p_31*p_41 - p_12*p_24*p_31*p_42 - p_12*p_24*p_31*p_43 - p_14*p_21*p_32*p_41 - p_14*p_21*p_32*p_42 - p_14*p_21*p_32*p_43)/(p_12*p_21*p_34*p_43 - p_12*p_23*p_34*p_41 - p_12*p_24*p_31*p_43 - p_13*p_21*p_34*p_42 + p_13*p_24*p_31*p_42 - p_13*p_24*p_32*p_41 - p_14*p_21*p_32*p_43 - p_14*p_23*p_31*p_42 + p_14*p_23*p_32*p_41)],\n",
       "[(-p_12*p_21*p_32*p_43 - p_12*p_23*p_31*p_42 + p_12*p_23*p_32*p_41 - p_13*p_21*p_32*p_43 - p_13*p_23*p_31*p_42 + p_13*p_23*p_32*p_41 - p_14*p_21*p_32*p_43 - p_14*p_23*p_31*p_42 + p_14*p_23*p_32*p_41)/(p_12*p_21*p_34*p_43 - p_12*p_23*p_34*p_41 - p_12*p_24*p_31*p_43 - p_13*p_21*p_34*p_42 + p_13*p_24*p_31*p_42 - p_13*p_24*p_32*p_41 - p_14*p_21*p_32*p_43 - p_14*p_23*p_31*p_42 + p_14*p_23*p_32*p_41), (-p_12*p_21*p_31*p_43 - p_12*p_23*p_31*p_43 - p_12*p_24*p_31*p_43 + p_13*p_21*p_31*p_42 - p_13*p_21*p_32*p_41 + p_13*p_23*p_31*p_42 - p_13*p_23*p_32*p_41 + p_13*p_24*p_31*p_42 - p_13*p_24*p_32*p_41)/(p_12*p_21*p_34*p_43 - p_12*p_23*p_34*p_41 - p_12*p_24*p_31*p_43 - p_13*p_21*p_34*p_42 + p_13*p_24*p_31*p_42 - p_13*p_24*p_32*p_41 - p_14*p_21*p_32*p_43 - p_14*p_23*p_31*p_42 + p_14*p_23*p_32*p_41),  (p_12*p_21*p_31*p_43 + p_12*p_21*p_32*p_43 + p_12*p_21*p_34*p_43 - p_12*p_23*p_31*p_41 - p_12*p_23*p_32*p_41 - p_12*p_23*p_34*p_41 - p_13*p_21*p_31*p_42 - p_13*p_21*p_32*p_42 - p_13*p_21*p_34*p_42)/(p_12*p_21*p_34*p_43 - p_12*p_23*p_34*p_41 - p_12*p_24*p_31*p_43 - p_13*p_21*p_34*p_42 + p_13*p_24*p_31*p_42 - p_13*p_24*p_32*p_41 - p_14*p_21*p_32*p_43 - p_14*p_23*p_31*p_42 + p_14*p_23*p_32*p_41),                                                                    (p_12*p_23*p_31*p_41 + p_12*p_23*p_31*p_42 + p_12*p_23*p_31*p_43 + p_13*p_21*p_32*p_41 + p_13*p_21*p_32*p_42 + p_13*p_21*p_32*p_43)/(p_12*p_21*p_34*p_43 - p_12*p_23*p_34*p_41 - p_12*p_24*p_31*p_43 - p_13*p_21*p_34*p_42 + p_13*p_24*p_31*p_42 - p_13*p_24*p_32*p_41 - p_14*p_21*p_32*p_43 - p_14*p_23*p_31*p_42 + p_14*p_23*p_32*p_41)]])"
      ]
     },
     "metadata": {},
     "output_type": "display_data"
    }
   ],
   "source": []
  }
 ],
 "metadata": {
  "kernelspec": {
   "display_name": "env",
   "language": "python",
   "name": "python3"
  },
  "language_info": {
   "codemirror_mode": {
    "name": "ipython",
    "version": 3
   },
   "file_extension": ".py",
   "mimetype": "text/x-python",
   "name": "python",
   "nbconvert_exporter": "python",
   "pygments_lexer": "ipython3",
   "version": "3.12.0"
  }
 },
 "nbformat": 4,
 "nbformat_minor": 5
}
